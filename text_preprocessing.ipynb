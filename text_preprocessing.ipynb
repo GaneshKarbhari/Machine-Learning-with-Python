{
 "cells": [
  {
   "cell_type": "code",
   "execution_count": 47,
   "metadata": {},
   "outputs": [],
   "source": [
    "text=\"\"\"     Hey,       https://www.google.com/maps <html>  ##### did you &&&& 123456 know that the summer break is coming? I can't wait to go to the beach and swim in the ocean.      I'm also excited to spend time with my family    and friends. What are your plans for the summer?\"\"\""
   ]
  },
  {
   "cell_type": "code",
   "execution_count": 48,
   "metadata": {},
   "outputs": [
    {
     "data": {
      "text/plain": [
       "\"     Hey,       https://www.google.com/maps <html>  ##### did you &&&& 123456 know that the summer break is coming? I can't wait to go to the beach and swim in the ocean.      I'm also excited to spend time with my family    and friends. What are your plans for the summer?\""
      ]
     },
     "execution_count": 48,
     "metadata": {},
     "output_type": "execute_result"
    }
   ],
   "source": [
    "text"
   ]
  },
  {
   "cell_type": "code",
   "execution_count": 49,
   "metadata": {},
   "outputs": [],
   "source": [
    "import re    # regex : regular expression"
   ]
  },
  {
   "attachments": {},
   "cell_type": "markdown",
   "metadata": {},
   "source": [
    "Lowercasing: Convert all letters to lowercase.\n",
    "Removing punctuation: Remove punctuation marks like periods, commas, and exclamation points.\n",
    "Removing stop words: Remove common words that don't add much meaning to the text, such as \"the\", \"is\", and \"are\".\n",
    "Stemming: Reduce words to their root form.\n",
    "Lemmatization: Convert words to their base form, taking into account their context.\n",
    "Removing URLs: Remove web addresses from the text.\n",
    "Removing HTML tags: Remove HTML tags from the text.\n",
    "Noise removal: Remove any noise from the text, such as HTML or XML wrappers or markups."
   ]
  },
  {
   "cell_type": "code",
   "execution_count": 40,
   "metadata": {},
   "outputs": [],
   "source": [
    "# removing punctuation"
   ]
  },
  {
   "cell_type": "code",
   "execution_count": 84,
   "metadata": {},
   "outputs": [],
   "source": [
    "clean_text_1= re.sub(r'[\\?\\!\\\"\\#\\@\\&\\$\\%\\*]|\\d+',\"\",text)  #punct, digits"
   ]
  },
  {
   "cell_type": "code",
   "execution_count": 85,
   "metadata": {},
   "outputs": [
    {
     "data": {
      "text/plain": [
       "\"Hey,       https://www.google.com/maps <html>   did you   know that the summer break is coming I can't wait to go to the beach and swim in the ocean.      I'm also excited to spend time with my family    and friends. What are your plans for the summer\""
      ]
     },
     "execution_count": 85,
     "metadata": {},
     "output_type": "execute_result"
    }
   ],
   "source": [
    "clean_text_1.strip()   # strip remove starting aaand ending whitespaces"
   ]
  },
  {
   "cell_type": "code",
   "execution_count": 86,
   "metadata": {},
   "outputs": [],
   "source": [
    "# remove numbers from text"
   ]
  },
  {
   "cell_type": "code",
   "execution_count": 88,
   "metadata": {},
   "outputs": [],
   "source": [
    "clean_text_2=re.sub(r'\\d+',\"\",clean_text_1)"
   ]
  },
  {
   "cell_type": "code",
   "execution_count": 89,
   "metadata": {},
   "outputs": [
    {
     "data": {
      "text/plain": [
       "\"     Hey,       https://www.google.com/maps <html>   did you   know that the summer break is coming I can't wait to go to the beach and swim in the ocean.      I'm also excited to spend time with my family    and friends. What are your plans for the summer\""
      ]
     },
     "execution_count": 89,
     "metadata": {},
     "output_type": "execute_result"
    }
   ],
   "source": [
    "clean_text_2"
   ]
  },
  {
   "cell_type": "code",
   "execution_count": 90,
   "metadata": {},
   "outputs": [
    {
     "data": {
      "text/plain": [
       "\" Hey, https://www.google.com/maps <html> did you know that the summer break is coming I can't wait to go to the beach and swim in the ocean.I'm also excited to spend time with my familyand friends. What are your plans for the summer\""
      ]
     },
     "execution_count": 90,
     "metadata": {},
     "output_type": "execute_result"
    }
   ],
   "source": [
    "clean_text_2.replace(\"  \",\"\")"
   ]
  },
  {
   "cell_type": "code",
   "execution_count": 91,
   "metadata": {},
   "outputs": [],
   "source": [
    "pattern=re.compile(r'\\s+')"
   ]
  },
  {
   "cell_type": "code",
   "execution_count": 92,
   "metadata": {},
   "outputs": [],
   "source": [
    "output=re.sub(pattern,\" \",clean_text_2)"
   ]
  },
  {
   "cell_type": "code",
   "execution_count": 93,
   "metadata": {},
   "outputs": [
    {
     "data": {
      "text/plain": [
       "\" Hey, https://www.google.com/maps <html> did you know that the summer break is coming I can't wait to go to the beach and swim in the ocean. I'm also excited to spend time with my family and friends. What are your plans for the summer\""
      ]
     },
     "execution_count": 93,
     "metadata": {},
     "output_type": "execute_result"
    }
   ],
   "source": [
    "output"
   ]
  },
  {
   "cell_type": "code",
   "execution_count": 97,
   "metadata": {},
   "outputs": [],
   "source": [
    "pattern= r\"http://\\S+|https://\\S+\"  # removing website links "
   ]
  },
  {
   "cell_type": "code",
   "execution_count": 98,
   "metadata": {},
   "outputs": [],
   "source": [
    "clean_text=re.sub(pattern,\"\",output)"
   ]
  },
  {
   "cell_type": "code",
   "execution_count": 102,
   "metadata": {},
   "outputs": [
    {
     "data": {
      "text/plain": [
       "\" Hey,  <html> did you know that the summer break is coming I can't wait to go to the beach and swim in the ocean. I'm also excited to spend time with my family and friends. What are your plans for the summer\""
      ]
     },
     "execution_count": 102,
     "metadata": {},
     "output_type": "execute_result"
    }
   ],
   "source": [
    "clean_text"
   ]
  },
  {
   "cell_type": "code",
   "execution_count": 101,
   "metadata": {},
   "outputs": [],
   "source": [
    "tags_pattern=re.compile(r\"<.*?>\")  # remove text inside tags and tags"
   ]
  },
  {
   "cell_type": "code",
   "execution_count": 103,
   "metadata": {},
   "outputs": [],
   "source": [
    "output=re.sub(tags_pattern,\"\",clean_text)"
   ]
  },
  {
   "cell_type": "code",
   "execution_count": 104,
   "metadata": {},
   "outputs": [
    {
     "data": {
      "text/plain": [
       "\" Hey,   did you know that the summer break is coming I can't wait to go to the beach and swim in the ocean. I'm also excited to spend time with my family and friends. What are your plans for the summer\""
      ]
     },
     "execution_count": 104,
     "metadata": {},
     "output_type": "execute_result"
    }
   ],
   "source": [
    "output"
   ]
  },
  {
   "cell_type": "code",
   "execution_count": 105,
   "metadata": {},
   "outputs": [],
   "source": [
    "# convert text to lowercase"
   ]
  },
  {
   "cell_type": "code",
   "execution_count": 107,
   "metadata": {},
   "outputs": [
    {
     "data": {
      "text/plain": [
       "\" hey,   did you know that the summer break is coming i can't wait to go to the beach and swim in the ocean. i'm also excited to spend time with my family and friends. what are your plans for the summer\""
      ]
     },
     "execution_count": 107,
     "metadata": {},
     "output_type": "execute_result"
    }
   ],
   "source": [
    "output.lower()"
   ]
  },
  {
   "cell_type": "code",
   "execution_count": 115,
   "metadata": {},
   "outputs": [],
   "source": [
    "from nltk.tokenize import word_tokenize"
   ]
  },
  {
   "cell_type": "code",
   "execution_count": 116,
   "metadata": {},
   "outputs": [],
   "source": [
    "tokenized=word_tokenize(output)"
   ]
  },
  {
   "cell_type": "code",
   "execution_count": 120,
   "metadata": {},
   "outputs": [
    {
     "data": {
      "text/plain": [
       "'did'"
      ]
     },
     "execution_count": 120,
     "metadata": {},
     "output_type": "execute_result"
    }
   ],
   "source": [
    "tokenized[2]"
   ]
  },
  {
   "cell_type": "code",
   "execution_count": 122,
   "metadata": {},
   "outputs": [
    {
     "name": "stdout",
     "output_type": "stream",
     "text": [
      "Hey\n",
      ",\n",
      "did\n",
      "you\n",
      "know\n",
      "that\n",
      "the\n",
      "summer\n",
      "break\n",
      "is\n",
      "coming\n",
      "I\n",
      "ca\n",
      "n't\n",
      "wait\n",
      "to\n",
      "go\n",
      "to\n",
      "the\n",
      "beach\n",
      "and\n",
      "swim\n",
      "in\n",
      "the\n",
      "ocean\n",
      ".\n",
      "I\n",
      "'m\n",
      "also\n",
      "excited\n",
      "to\n",
      "spend\n",
      "time\n",
      "with\n",
      "my\n",
      "family\n",
      "and\n",
      "friends\n",
      ".\n",
      "What\n",
      "are\n",
      "your\n",
      "plans\n",
      "for\n",
      "the\n",
      "summer\n"
     ]
    }
   ],
   "source": [
    "for i in tokenized:\n",
    "    print(i)\n",
    "    "
   ]
  },
  {
   "cell_type": "code",
   "execution_count": 108,
   "metadata": {},
   "outputs": [],
   "source": [
    "# stemming   - removes word affixes.... ed, ing, ly"
   ]
  },
  {
   "cell_type": "code",
   "execution_count": 123,
   "metadata": {},
   "outputs": [],
   "source": [
    "from nltk.stem import PorterStemmer"
   ]
  },
  {
   "cell_type": "code",
   "execution_count": 124,
   "metadata": {},
   "outputs": [],
   "source": [
    "stemmer=PorterStemmer()"
   ]
  },
  {
   "cell_type": "code",
   "execution_count": 126,
   "metadata": {},
   "outputs": [
    {
     "name": "stdout",
     "output_type": "stream",
     "text": [
      "org word: Hey\n",
      "stemm output: hey\n",
      "org word: ,\n",
      "stemm output: ,\n",
      "org word: did\n",
      "stemm output: did\n",
      "org word: you\n",
      "stemm output: you\n",
      "org word: know\n",
      "stemm output: know\n",
      "org word: that\n",
      "stemm output: that\n",
      "org word: the\n",
      "stemm output: the\n",
      "org word: summer\n",
      "stemm output: summer\n",
      "org word: break\n",
      "stemm output: break\n",
      "org word: is\n",
      "stemm output: is\n",
      "org word: coming\n",
      "stemm output: come\n",
      "org word: I\n",
      "stemm output: i\n",
      "org word: ca\n",
      "stemm output: ca\n",
      "org word: n't\n",
      "stemm output: n't\n",
      "org word: wait\n",
      "stemm output: wait\n",
      "org word: to\n",
      "stemm output: to\n",
      "org word: go\n",
      "stemm output: go\n",
      "org word: to\n",
      "stemm output: to\n",
      "org word: the\n",
      "stemm output: the\n",
      "org word: beach\n",
      "stemm output: beach\n",
      "org word: and\n",
      "stemm output: and\n",
      "org word: swim\n",
      "stemm output: swim\n",
      "org word: in\n",
      "stemm output: in\n",
      "org word: the\n",
      "stemm output: the\n",
      "org word: ocean\n",
      "stemm output: ocean\n",
      "org word: .\n",
      "stemm output: .\n",
      "org word: I\n",
      "stemm output: i\n",
      "org word: 'm\n",
      "stemm output: 'm\n",
      "org word: also\n",
      "stemm output: also\n",
      "org word: excited\n",
      "stemm output: excit\n",
      "org word: to\n",
      "stemm output: to\n",
      "org word: spend\n",
      "stemm output: spend\n",
      "org word: time\n",
      "stemm output: time\n",
      "org word: with\n",
      "stemm output: with\n",
      "org word: my\n",
      "stemm output: my\n",
      "org word: family\n",
      "stemm output: famili\n",
      "org word: and\n",
      "stemm output: and\n",
      "org word: friends\n",
      "stemm output: friend\n",
      "org word: .\n",
      "stemm output: .\n",
      "org word: What\n",
      "stemm output: what\n",
      "org word: are\n",
      "stemm output: are\n",
      "org word: your\n",
      "stemm output: your\n",
      "org word: plans\n",
      "stemm output: plan\n",
      "org word: for\n",
      "stemm output: for\n",
      "org word: the\n",
      "stemm output: the\n",
      "org word: summer\n",
      "stemm output: summer\n"
     ]
    }
   ],
   "source": [
    "for i in tokenized:\n",
    "    print(\"org word:\",i)\n",
    "    stemm_output=stemmer.stem(i)\n",
    "    print(\"stemm output:\",stemm_output)"
   ]
  },
  {
   "cell_type": "code",
   "execution_count": 127,
   "metadata": {},
   "outputs": [],
   "source": [
    "#lemmatization"
   ]
  },
  {
   "cell_type": "code",
   "execution_count": 148,
   "metadata": {},
   "outputs": [],
   "source": [
    "from nltk.stem import WordNetLemmatizer"
   ]
  },
  {
   "cell_type": "code",
   "execution_count": 141,
   "metadata": {},
   "outputs": [],
   "source": [
    "import nltk"
   ]
  },
  {
   "cell_type": "code",
   "execution_count": 142,
   "metadata": {},
   "outputs": [
    {
     "name": "stderr",
     "output_type": "stream",
     "text": [
      "[nltk_data] Downloading package wordnet to\n",
      "[nltk_data]     C:\\Users\\GaneshKarbhari\\AppData\\Roaming\\nltk_data...\n"
     ]
    },
    {
     "data": {
      "text/plain": [
       "True"
      ]
     },
     "execution_count": 142,
     "metadata": {},
     "output_type": "execute_result"
    }
   ],
   "source": [
    "nltk.download('wordnet')"
   ]
  },
  {
   "cell_type": "code",
   "execution_count": 147,
   "metadata": {},
   "outputs": [
    {
     "name": "stderr",
     "output_type": "stream",
     "text": [
      "[nltk_data] Downloading package omw-1.4 to\n",
      "[nltk_data]     C:\\Users\\GaneshKarbhari\\AppData\\Roaming\\nltk_data...\n"
     ]
    },
    {
     "data": {
      "text/plain": [
       "True"
      ]
     },
     "execution_count": 147,
     "metadata": {},
     "output_type": "execute_result"
    }
   ],
   "source": [
    "nltk.download(\"omw-1.4\")"
   ]
  },
  {
   "cell_type": "code",
   "execution_count": 151,
   "metadata": {},
   "outputs": [],
   "source": [
    "lem=WordNetLemmatizer()"
   ]
  },
  {
   "cell_type": "code",
   "execution_count": 154,
   "metadata": {},
   "outputs": [
    {
     "data": {
      "text/plain": [
       "'went'"
      ]
     },
     "execution_count": 154,
     "metadata": {},
     "output_type": "execute_result"
    }
   ],
   "source": [
    "lem.lemmatize(\"went\")"
   ]
  },
  {
   "cell_type": "code",
   "execution_count": 155,
   "metadata": {},
   "outputs": [
    {
     "name": "stdout",
     "output_type": "stream",
     "text": [
      "org word:  Hey\n",
      "lemm output:  Hey\n",
      "org word:  ,\n",
      "lemm output:  ,\n",
      "org word:  did\n",
      "lemm output:  did\n",
      "org word:  you\n",
      "lemm output:  you\n",
      "org word:  know\n",
      "lemm output:  know\n",
      "org word:  that\n",
      "lemm output:  that\n",
      "org word:  the\n",
      "lemm output:  the\n",
      "org word:  summer\n",
      "lemm output:  summer\n",
      "org word:  break\n",
      "lemm output:  break\n",
      "org word:  is\n",
      "lemm output:  is\n",
      "org word:  coming\n",
      "lemm output:  coming\n",
      "org word:  I\n",
      "lemm output:  I\n",
      "org word:  ca\n",
      "lemm output:  ca\n",
      "org word:  n't\n",
      "lemm output:  n't\n",
      "org word:  wait\n",
      "lemm output:  wait\n",
      "org word:  to\n",
      "lemm output:  to\n",
      "org word:  go\n",
      "lemm output:  go\n",
      "org word:  to\n",
      "lemm output:  to\n",
      "org word:  the\n",
      "lemm output:  the\n",
      "org word:  beach\n",
      "lemm output:  beach\n",
      "org word:  and\n",
      "lemm output:  and\n",
      "org word:  swim\n",
      "lemm output:  swim\n",
      "org word:  in\n",
      "lemm output:  in\n",
      "org word:  the\n",
      "lemm output:  the\n",
      "org word:  ocean\n",
      "lemm output:  ocean\n",
      "org word:  .\n",
      "lemm output:  .\n",
      "org word:  I\n",
      "lemm output:  I\n",
      "org word:  'm\n",
      "lemm output:  'm\n",
      "org word:  also\n",
      "lemm output:  also\n",
      "org word:  excited\n",
      "lemm output:  excited\n",
      "org word:  to\n",
      "lemm output:  to\n",
      "org word:  spend\n",
      "lemm output:  spend\n",
      "org word:  time\n",
      "lemm output:  time\n",
      "org word:  with\n",
      "lemm output:  with\n",
      "org word:  my\n",
      "lemm output:  my\n",
      "org word:  family\n",
      "lemm output:  family\n",
      "org word:  and\n",
      "lemm output:  and\n",
      "org word:  friends\n",
      "lemm output:  friend\n",
      "org word:  .\n",
      "lemm output:  .\n",
      "org word:  What\n",
      "lemm output:  What\n",
      "org word:  are\n",
      "lemm output:  are\n",
      "org word:  your\n",
      "lemm output:  your\n",
      "org word:  plans\n",
      "lemm output:  plan\n",
      "org word:  for\n",
      "lemm output:  for\n",
      "org word:  the\n",
      "lemm output:  the\n",
      "org word:  summer\n",
      "lemm output:  summer\n"
     ]
    }
   ],
   "source": [
    "for i in tokenized:\n",
    "    print(\"org word: \",i)\n",
    "    lem_op=lem.lemmatize(i)\n",
    "    print(\"lemm output: \",lem_op)"
   ]
  },
  {
   "cell_type": "code",
   "execution_count": null,
   "metadata": {},
   "outputs": [],
   "source": []
  },
  {
   "cell_type": "code",
   "execution_count": 137,
   "metadata": {},
   "outputs": [
    {
     "name": "stderr",
     "output_type": "stream",
     "text": [
      "c:\\Users\\GaneshKarbhari\\.conda\\envs\\summ_env\\Lib\\site-packages\\tqdm\\auto.py:21: TqdmWarning: IProgress not found. Please update jupyter and ipywidgets. See https://ipywidgets.readthedocs.io/en/stable/user_install.html\n",
      "  from .autonotebook import tqdm as notebook_tqdm\n"
     ]
    }
   ],
   "source": [
    "import spacy\n",
    " \n",
    "# Load the spaCy English model\n",
    "nlp = spacy.load('en_core_web_sm')"
   ]
  },
  {
   "cell_type": "code",
   "execution_count": 139,
   "metadata": {},
   "outputs": [
    {
     "data": {
      "text/plain": [
       "     Hey,       https://www.google.com/maps <html>  ##### did you &&&& 123456 know that the summer break is coming? I can't wait to go to the beach and swim in the ocean.      I'm also excited to spend time with my family    and friends. What are your plans for the summer?"
      ]
     },
     "execution_count": 139,
     "metadata": {},
     "output_type": "execute_result"
    }
   ],
   "source": [
    "nlp(text)"
   ]
  }
 ],
 "metadata": {
  "kernelspec": {
   "display_name": "summ_env",
   "language": "python",
   "name": "python3"
  },
  "language_info": {
   "codemirror_mode": {
    "name": "ipython",
    "version": 3
   },
   "file_extension": ".py",
   "mimetype": "text/x-python",
   "name": "python",
   "nbconvert_exporter": "python",
   "pygments_lexer": "ipython3",
   "version": "3.11.3"
  },
  "orig_nbformat": 4
 },
 "nbformat": 4,
 "nbformat_minor": 2
}
